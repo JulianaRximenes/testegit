{
 "cells": [
  {
   "cell_type": "markdown",
   "metadata": {},
   "source": [
    "## Operador ternário\n",
    "- Usar operador ternário quando as alternativas forem pequenas, e quando tiver apenas 2 ou no máximo 3 alternativas.\n",
    "- No exemplo a variável precisa ser inteira"
   ]
  },
  {
   "cell_type": "code",
   "execution_count": 10,
   "metadata": {},
   "outputs": [
    {
     "name": "stdout",
     "output_type": "stream",
     "text": [
      "karython é maior de idade.\n"
     ]
    }
   ],
   "source": [
    "#nome = 'karython'\n",
    "idade = 18\n",
    "\n",
    "#print(nome, 'é maior de idade.' if idade >= 18 else 'é menor de idade')"
   ]
  },
  {
   "cell_type": "markdown",
   "metadata": {},
   "source": [
    "## Replace\n",
    "- substituir"
   ]
  },
  {
   "cell_type": "code",
   "execution_count": 5,
   "metadata": {},
   "outputs": [
    {
     "name": "stdout",
     "output_type": "stream",
     "text": [
      "<class 'str'>\n",
      "<class 'float'>\n"
     ]
    }
   ],
   "source": [
    "peso = input(\"Digite seu peso: \").replace(',','.')\n",
    "print(type(peso))\n",
    "peso = float(peso)\n",
    "print(type(peso))\n"
   ]
  },
  {
   "cell_type": "markdown",
   "metadata": {},
   "source": [
    "## Desafio 01\n",
    "- Crie um programa para fazer a verificação de um cliente para saber se ele pode usar o brinquedo ou não.\n",
    "    - Para brincar ele precisa:\n",
    "        - ter mais que 12 anos\n",
    "        - ter altura minima de 1,20 mts"
   ]
  },
  {
   "cell_type": "code",
   "execution_count": 23,
   "metadata": {},
   "outputs": [
    {
     "name": "stdout",
     "output_type": "stream",
     "text": [
      "pode entrar no brinquedo\n"
     ]
    }
   ],
   "source": [
    "idade= input('digite sua idade')\n",
    "idade=int(idade)\n",
    "altura=  input('digite sua altura').replace(',','.')\n",
    "altura= float(altura)\n",
    "if idade >= 12 or altura > 1.20:\n",
    "    print('pode entrar no brinquedo')\n",
    "else:\n",
    "      print('nao pode brincar')"
   ]
  },
  {
   "cell_type": "markdown",
   "metadata": {},
   "source": [
    "## Desafio 02\n",
    "- Crie um programa que verifica se o aluno poderar ir a praia.\n",
    "    - Para ir a praia ele precisa:\n",
    "        - Verifica se acordei de bom humor\n",
    "        - Verifica se o pai ja chegou em casa para leva-lo"
   ]
  },
  {
   "cell_type": "code",
   "execution_count": 34,
   "metadata": {},
   "outputs": [
    {
     "name": "stdout",
     "output_type": "stream",
     "text": [
      "pode ir ao passeio\n"
     ]
    }
   ],
   "source": [
    "# TODO: Resposta desafio 02\n",
    "\n",
    "humor= input('digite se esta de bom humor')\n",
    "\n",
    "pai= input('digite se seu pai chegou')\n",
    "\n",
    "if humor == 'sim' and pai == 'sim':\n",
    "    print('pode ir ao passeio')\n",
    "else:\n",
    "      print('nao ir ao paseio')"
   ]
  },
  {
   "cell_type": "markdown",
   "metadata": {},
   "source": [
    "## Desafio 03\n",
    "- Crie um programa que modifique o cpf digitado\n",
    "    - pegue um cpf qualquer com todos os digitos:\n",
    "        - remova os caracteres\n",
    "        - imprima o cpf sem modificação\n",
    "        - imprima o cpf com modificação"
   ]
  },
  {
   "cell_type": "code",
   "execution_count": 43,
   "metadata": {},
   "outputs": [
    {
     "name": "stdout",
     "output_type": "stream",
     "text": [
      "o CPF e = 023.582.061.05 \n",
      "o CPF e = 02358206105 \n"
     ]
    }
   ],
   "source": [
    "# TODO: Resposta desafio 03\n",
    "\n",
    "cpf = input(\"Digite seu CPF: \")\n",
    "cpf2=cpf.replace('.','')\n",
    "print (f'o CPF e = {cpf} ')\n",
    "print (f'o CPF e = {cpf2} ')"
   ]
  },
  {
   "cell_type": "markdown",
   "metadata": {},
   "source": [
    "## Desafio 04\n",
    "- Crie uma calculadora de IMC\n",
    "    - Imprima as seguintes condições:?\n",
    "        - imc <17: está com anorexia.\n",
    "        - imc <18.5: está abaixo do peso\n",
    "        - imc <25: está no peso ideal.\n",
    "        - imc <30: está acima do peso.\n",
    "        - imc <35: está com grau de obesidade I.\n",
    "        - imc <40: está com grau de obesidade II.\n",
    "        - imc: está com grau de obesidade mórbida."
   ]
  },
  {
   "cell_type": "code",
   "execution_count": 51,
   "metadata": {},
   "outputs": [
    {
     "name": "stdout",
     "output_type": "stream",
     "text": [
      "voce esta com acima do peso \n"
     ]
    }
   ],
   "source": [
    "# TODO: Resposta desafio 04]\n",
    "\n",
    "imc = float(input('digite seu imc'))\n",
    "\n",
    "if imc < 17: \n",
    "    print('voce e anorexia')\n",
    "elif imc < 18.5:\n",
    "     print('voce esta abaixo do peso ')  \n",
    "elif imc < 25: \n",
    "     print('voce esta no peso ideal ')  \n",
    "elif imc < 30:\n",
    "     print('voce esta com acima do peso ')  \n",
    "elif imc <35: \n",
    "      print('voce esta com grau 1 de obesidade ')  \n",
    "elif imc < 40:\n",
    "     print('voce esta com grau 2 de obesidade ')    \n",
    "else:\n",
    "      print('voce esta com grau de obesidade morbida ')  "
   ]
  },
  {
   "cell_type": "markdown",
   "metadata": {},
   "source": [
    "## Desafio 05\n",
    "- Crie uma calculadora basica.\n",
    "    - Solicite 2 números do usuário e pergunte qual operação matemática ele deseja fazer.\n",
    "        -   +; -; /; *\n",
    "        - imprima o resultado correto para cada operação"
   ]
  },
  {
   "cell_type": "code",
   "execution_count": 36,
   "metadata": {},
   "outputs": [
    {
     "name": "stdout",
     "output_type": "stream",
     "text": [
      "o resultado e = 14\n"
     ]
    }
   ],
   "source": [
    "# TODO: Resposta desafio 05\n",
    "\n",
    "\n",
    "n1 = int(input('digite um numero'))\n",
    "n2 = int(input('digite outro numero'))\n",
    "operador = input('digite qual operação ')\n",
    "# a = n1+n2\n",
    "# s = n1-n2\n",
    "# d = n1/n2\n",
    "# m = n1*n2\n",
    "\n",
    "if operador == '*':\n",
    "    print(f'o resultado e = {n1*n2}')\n",
    "if operador == '/':\n",
    "    print(f'o resultado e = {n1/n2}')\n",
    "if operador == '+':\n",
    "    print(f'o resultado e = {n1+n2}')\n",
    "if operador == '-':\n",
    "    print(f'o resultado e = {n1-n2}')\n",
    "\n",
    "\n",
    "\n"
   ]
  }
 ],
 "metadata": {
  "kernelspec": {
   "display_name": "Python 3",
   "language": "python",
   "name": "python3"
  },
  "language_info": {
   "codemirror_mode": {
    "name": "ipython",
    "version": 3
   },
   "file_extension": ".py",
   "mimetype": "text/x-python",
   "name": "python",
   "nbconvert_exporter": "python",
   "pygments_lexer": "ipython3",
   "version": "3.12.4"
  }
 },
 "nbformat": 4,
 "nbformat_minor": 2
}
