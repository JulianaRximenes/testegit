{
 "cells": [
  {
   "cell_type": "code",
   "execution_count": 4,
   "metadata": {},
   "outputs": [
    {
     "name": "stdout",
     "output_type": "stream",
     "text": [
      "if e falso\n",
      "finalizou o codigo\n"
     ]
    }
   ],
   "source": [
    "progamador = False\n",
    "if progamador:\n",
    "    print('if verdadeiro')\n",
    "else:\n",
    "    print('if e falso')\n",
    "\n",
    "print('finalizou o codigo')"
   ]
  },
  {
   "cell_type": "code",
   "execution_count": 7,
   "metadata": {},
   "outputs": [
    {
     "name": "stdout",
     "output_type": "stream",
     "text": [
      "reprovado\n"
     ]
    }
   ],
   "source": [
    "nota= 4\n",
    "if nota >= 7:\n",
    "    print('O aluno aprovado')\n",
    "elif nota >=5:\n",
    "    print('esta de recuperação')\n",
    "else: \n",
    "    print('reprovado')"
   ]
  },
  {
   "cell_type": "code",
   "execution_count": 13,
   "metadata": {},
   "outputs": [
    {
     "name": "stdout",
     "output_type": "stream",
     "text": [
      "O numero e par\n"
     ]
    }
   ],
   "source": [
    "numero= int(input('digite o numero'))\n",
    "if numero %2 ==0:\n",
    "    print('O numero e par')\n",
    "\n",
    "else:\n",
    "    print('o numero e impar')\n",
    " "
   ]
  },
  {
   "cell_type": "code",
   "execution_count": 18,
   "metadata": {},
   "outputs": [
    {
     "name": "stdout",
     "output_type": "stream",
     "text": [
      "esta permitido\n"
     ]
    }
   ],
   "source": [
    "elevador=200\n",
    "\n",
    "carga= int(input('digite o peso da carga'))\n",
    "seupeso= int(input('digite o seu peso'))    \n",
    "total= carga+seupeso  \n",
    "\n",
    "if total<=200:\n",
    "    print('esta permitido')\n",
    "else:\n",
    "    print('nao esta autorizado')\n"
   ]
  },
  {
   "cell_type": "code",
   "execution_count": 24,
   "metadata": {},
   "outputs": [
    {
     "ename": "IndentationError",
     "evalue": "unindent does not match any outer indentation level (<string>, line 12)",
     "output_type": "error",
     "traceback": [
      "\u001b[1;36m  File \u001b[1;32m<string>:12\u001b[1;36m\u001b[0m\n\u001b[1;33m    else:\u001b[0m\n\u001b[1;37m         ^\u001b[0m\n\u001b[1;31mIndentationError\u001b[0m\u001b[1;31m:\u001b[0m unindent does not match any outer indentation level\n"
     ]
    }
   ],
   "source": [
    "nome= input(\"coloque seu nome: \")\n",
    "idade=int(input(\"coloque sua idade: \"))\n",
    "cpf=str(input(\"coloque seu cpf: \"))\n",
    "n1=int(input(\"nota do primeiro bimestre\"))\n",
    "n2=int(input(\"nota do segundo bimestre\"))\n",
    "n3=int(input(\"nota do terceiro bimestre\"))\n",
    "n4=int(input(\"nota do quarto bimestre\"))\n",
    "media=(n1+n2+n3+n4)/4\n",
    "\n",
    "if idade<18:\n",
    "    print('o aluno e menor de idade')\n",
    " else:\n",
    "    if"
   ]
  }
 ],
 "metadata": {
  "kernelspec": {
   "display_name": ".venv",
   "language": "python",
   "name": "python3"
  },
  "language_info": {
   "codemirror_mode": {
    "name": "ipython",
    "version": 3
   },
   "file_extension": ".py",
   "mimetype": "text/x-python",
   "name": "python",
   "nbconvert_exporter": "python",
   "pygments_lexer": "ipython3",
   "version": "3.12.4"
  }
 },
 "nbformat": 4,
 "nbformat_minor": 2
}
