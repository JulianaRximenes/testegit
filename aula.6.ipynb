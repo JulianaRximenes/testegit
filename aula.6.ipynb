{
 "cells": [
  {
   "cell_type": "code",
   "execution_count": 6,
   "metadata": {},
   "outputs": [
    {
     "name": "stdout",
     "output_type": "stream",
     "text": [
      "hentique está no peso ideal.\n"
     ]
    }
   ],
   "source": [
    "#while True:\n",
    "    nome = str(input('digite seu nome ou aperte entrer para parar'))\n",
    "    \n",
    "    if nome !='':\n",
    "        peso = str(input('digite seu peso'))\n",
    "        altura = str(input('digite sua altura'))\n",
    "        imc = float(peso)/float(altura)**2\n",
    "\n",
    "        if imc < 17:\n",
    "            print(f'{nome} está com anorexia.')\n",
    "        elif imc < 18.5:\n",
    "            print(f'{nome} está abaixo do peso.')\n",
    "        elif imc < 25:\n",
    "            print(f'{nome} está no peso ideal.')\n",
    "        elif imc < 30:\n",
    "            print(f'{nome} está acima do peso.')\n",
    "        elif imc < 35:\n",
    "            print(f'{nome} está com grau de obesidade I.')\n",
    "        elif imc < 40:\n",
    "            print(f'{nome} está com grau de obesidade II.')\n",
    "        else:\n",
    "             print(f'{nome} está com grau de obesidade mórbida.')\n",
    "    else:\n",
    "        break\n",
    "\n"
   ]
  },
  {
   "cell_type": "markdown",
   "metadata": {},
   "source": [
    "imc= peso/altura**2"
   ]
  },
  {
   "cell_type": "code",
   "execution_count": 55,
   "metadata": {},
   "outputs": [
    {
     "ename": "TypeError",
     "evalue": "'<' not supported between instances of 'str' and 'int'",
     "output_type": "error",
     "traceback": [
      "\u001b[1;31m---------------------------------------------------------------------------\u001b[0m",
      "\u001b[1;31mTypeError\u001b[0m                                 Traceback (most recent call last)",
      "Cell \u001b[1;32mIn[55], line 14\u001b[0m\n\u001b[0;32m      5\u001b[0m     \u001b[38;5;66;03m#sala1 = divertida mente 2( 10)\u001b[39;00m\n\u001b[0;32m      6\u001b[0m     \u001b[38;5;66;03m#sala2 = os minions(9)\u001b[39;00m\n\u001b[0;32m      7\u001b[0m     \u001b[38;5;66;03m#sala3 = anabele(18)\u001b[39;00m\n\u001b[0;32m      8\u001b[0m     \u001b[38;5;66;03m#sala4 = a freira(18)\u001b[39;00m\n\u001b[0;32m      9\u001b[0m     \u001b[38;5;66;03m#sala5 = um lugar silencioso(16)\u001b[39;00m\n\u001b[0;32m     11\u001b[0m \u001b[38;5;28mstr\u001b[39m(\u001b[38;5;28minput\u001b[39m(\u001b[38;5;124m'\u001b[39m\u001b[38;5;124mdigite a sala desejada\u001b[39m\u001b[38;5;124m'\u001b[39m))\n\u001b[1;32m---> 14\u001b[0m \u001b[38;5;28;01mif\u001b[39;00m \u001b[43midade\u001b[49m\u001b[43m \u001b[49m\u001b[38;5;241;43m<\u001b[39;49m\u001b[43m \u001b[49m\u001b[38;5;241;43m8\u001b[39;49m:\n\u001b[0;32m     15\u001b[0m      \u001b[38;5;28mstr\u001b[39m(\u001b[38;5;28mprint\u001b[39m(\u001b[38;5;124mf\u001b[39m\u001b[38;5;124m'\u001b[39m\u001b[38;5;132;01m{\u001b[39;00mnome\u001b[38;5;132;01m}\u001b[39;00m\u001b[38;5;124m e  voce nao esta apto .\u001b[39m\u001b[38;5;124m'\u001b[39m))\n\u001b[0;32m     16\u001b[0m \u001b[38;5;28;01mif\u001b[39;00m idade \u001b[38;5;241m<\u001b[39m \u001b[38;5;241m18\u001b[39m:\n",
      "\u001b[1;31mTypeError\u001b[0m: '<' not supported between instances of 'str' and 'int'"
     ]
    }
   ],
   "source": [
    "\n",
    "nome = str(input('digite seu nome'))\n",
    "idade = str(input('digite sua idade'))\n",
    "\n",
    "\n",
    "    #sala1 = divertida mente 2( 10)\n",
    "    #sala2 = os minions(9)\n",
    "    #sala3 = anabele(18)\n",
    "    #sala4 = a freira(18)\n",
    "    #sala5 = um lugar silencioso(16)\n",
    "   \n",
    "str(input('digite a sala desejada'))\n",
    "    \n",
    "    \n",
    "if idade < 8:\n",
    "     str(print(f'{nome} e  voce nao esta apto .'))\n",
    "if idade < 18:\n",
    "    str (print(f'{nome} e está a apto.'))\n",
    "\n",
    "\n",
    "     \n"
   ]
  },
  {
   "cell_type": "code",
   "execution_count": null,
   "metadata": {},
   "outputs": [],
   "source": [
    "elif >=25:\n",
    "            print(f'{nome} tem a idade ideal.')\n",
    "         elif  < 30:\n",
    "            print(f'{nome} está .')\n",
    "        elif  < 35:\n",
    "            print(f'{nome} está com grau de obesidade I.')\n",
    "        elif  < 40:\n",
    "            print(f'{nome} está com grau de obesidade II.')\n",
    "        else:\n",
    "             print(f'{nome} está com grau de obesidade mórbida.')\n",
    "#while True:"
   ]
  }
 ],
 "metadata": {
  "kernelspec": {
   "display_name": "Python 3",
   "language": "python",
   "name": "python3"
  },
  "language_info": {
   "codemirror_mode": {
    "name": "ipython",
    "version": 3
   },
   "file_extension": ".py",
   "mimetype": "text/x-python",
   "name": "python",
   "nbconvert_exporter": "python",
   "pygments_lexer": "ipython3",
   "version": "3.12.4"
  }
 },
 "nbformat": 4,
 "nbformat_minor": 2
}
