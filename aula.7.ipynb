{
 "cells": [
  {
   "cell_type": "code",
   "execution_count": null,
   "metadata": {},
   "outputs": [],
   "source": [
    "nome = ['juliana']\n",
    "\n",
    "for n in range(5):\n",
    " \n",
    "   print(n)"
   ]
  },
  {
   "cell_type": "code",
   "execution_count": null,
   "metadata": {},
   "outputs": [],
   "source": [
    "nome = 'juliana'\n",
    "for n in nome:\n",
    "      print(n)"
   ]
  },
  {
   "cell_type": "code",
   "execution_count": null,
   "metadata": {},
   "outputs": [],
   "source": [
    "#(calculo pra tira numeros pares)\n",
    "\n",
    "\n",
    "for i in range (0,21):  \n",
    "    if i % 2 ==0:\n",
    "        print(i)\n"
   ]
  },
  {
   "cell_type": "code",
   "execution_count": null,
   "metadata": {},
   "outputs": [],
   "source": [
    "  #(para tira  numeros impa)\n",
    "\n",
    "for i in range (0,21):       \n",
    "     if i % 2 ==1:\n",
    "        print(i)\n"
   ]
  },
  {
   "cell_type": "code",
   "execution_count": null,
   "metadata": {},
   "outputs": [],
   "source": [
    "altura=20\n",
    "espacamento=0\n",
    "asteristico=1\n",
    "simbolo='*'\n",
    "\n",
    "for i in range (altura,):\n",
    "    espacamento = altura - i - 1\n",
    "\n",
    "    for j in range (espacamento):\n",
    "        print(' ', end='')\n",
    "    for k in range (asteristico):\n",
    "            print (simbolo, end='')\n",
    "print()\n",
    "asteristico+=2 "
   ]
  },
  {
   "cell_type": "code",
   "execution_count": null,
   "metadata": {},
   "outputs": [],
   "source": [
    "lista = ['gosmes','pedro','paulo','jose','beltranp']\n",
    "\n",
    "print(f' o primeiro nome da lista{lista[0]}')\n",
    "print(f'o segundo nome da lista {lista[1]}')\n",
    "print(f'o terceiro nome da lista {lista[2]}')\n",
    "      \n",
    "print()\n",
    "for i in range(5):\n",
    "    print(f' {i + 1}° nome:{lista[i]}')\n"
   ]
  },
  {
   "cell_type": "code",
   "execution_count": null,
   "metadata": {},
   "outputs": [],
   "source": [
    "x= int(input('digite um numero inteiro'))\n",
    "for num in range(1, 11):\n",
    "    print(f' {x} x {num} = {x * num}')"
   ]
  },
  {
   "cell_type": "code",
   "execution_count": null,
   "metadata": {},
   "outputs": [],
   "source": [
    "import random \n",
    "\n",
    "nome1 = input('digite um nome:')\n",
    "nome2 = input('digite um nome:')\n",
    "nome3 = input('digite um nome:')\n",
    "nome4 = input('digite um nome:')\n",
    "nome5 = input('digite um nome:')\n",
    "\n",
    "lista = [nome1, nome2, nome, nome4, nome5]\n",
    "\n",
    "premiado = random.choice(lista)\n",
    "print(f'o premiaddo e {premiado}')\n",
    "print(lista)"
   ]
  },
  {
   "cell_type": "markdown",
   "metadata": {},
   "source": []
  },
  {
   "cell_type": "code",
   "execution_count": null,
   "metadata": {},
   "outputs": [],
   "source": []
  },
  {
   "cell_type": "code",
   "execution_count": 5,
   "metadata": {},
   "outputs": [
    {
     "name": "stdout",
     "output_type": "stream",
     "text": [
      "o premiado da vez foi diaz\n",
      "sistema finalizado\n",
      "['diaz', 'denise', 'igor']\n",
      "['diaz']\n"
     ]
    }
   ],
   "source": [
    "from random import random, randint, choice\n",
    "import os\n",
    "\n",
    "\n",
    "lista=[]\n",
    "lista_sorteados=[]\n",
    "while True:\n",
    "    nome = input(\"Digite os nomes que serão sorteado: \")\n",
    "    if nome !='':\n",
    "        lista.append(nome)\n",
    "    else:\n",
    "        break\n",
    "\n",
    "while True:\n",
    "    if lista:\n",
    "        os.system('cls')\n",
    "        premiado=choice(lista)\n",
    "        lista_sorteados.append(premiado)\n",
    "\n",
    "        print(f'o premiado da vez foi {premiado}')\n",
    "        opcao= input(f'deseja ralizar um novo sorteio? (s/n)').lower()\n",
    "        os.system('cls')\n",
    "\n",
    "        if opcao !='s':\n",
    "            break\n",
    "    else:\n",
    "        print(\"não existem nomes para serem sorteados!\")\n",
    "print(\"sistema finalizado\")\n",
    "print(lista)\n",
    "print(lista_sorteados)\n",
    "\n"
   ]
  },
  {
   "cell_type": "code",
   "execution_count": 12,
   "metadata": {},
   "outputs": [
    {
     "name": "stdout",
     "output_type": "stream",
     "text": [
      "bem vindo ao pyton games!\n",
      "voce possui50 tentativas para adivinhar o numerosecreto entre 1 e 5\n",
      "tente um numero menr!\n",
      "tente um numero maior!\n",
      "tente um numero maior!\n",
      "tente um numero maior!\n"
     ]
    },
    {
     "ename": "ValueError",
     "evalue": "invalid literal for int() with base 10: ''",
     "output_type": "error",
     "traceback": [
      "\u001b[1;31m---------------------------------------------------------------------------\u001b[0m",
      "\u001b[1;31mValueError\u001b[0m                                Traceback (most recent call last)",
      "Cell \u001b[1;32mIn[12], line 11\u001b[0m\n\u001b[0;32m      8\u001b[0m \u001b[38;5;28mprint\u001b[39m(\u001b[38;5;124mf\u001b[39m\u001b[38;5;124m'\u001b[39m\u001b[38;5;124mvoce possui\u001b[39m\u001b[38;5;132;01m{\u001b[39;00mmax_tentativas\u001b[38;5;132;01m}\u001b[39;00m\u001b[38;5;124m tentativas para adivinhar o numerosecreto entre 1 e 5\u001b[39m\u001b[38;5;124m'\u001b[39m)\n\u001b[0;32m     10\u001b[0m \u001b[38;5;28;01mwhile\u001b[39;00m tentativas \u001b[38;5;241m<\u001b[39m max_tentativas:\n\u001b[1;32m---> 11\u001b[0m     palpite \u001b[38;5;241m=\u001b[39m \u001b[38;5;28;43mint\u001b[39;49m\u001b[43m(\u001b[49m\u001b[38;5;28;43minput\u001b[39;49m\u001b[43m(\u001b[49m\u001b[38;5;124;43m'\u001b[39;49m\u001b[38;5;124;43mdigite um numero inteiro\u001b[39;49m\u001b[38;5;124;43m'\u001b[39;49m\u001b[43m)\u001b[49m\u001b[43m)\u001b[49m\n\u001b[0;32m     12\u001b[0m     tentativas \u001b[38;5;241m+\u001b[39m\u001b[38;5;241m=\u001b[39m\u001b[38;5;241m1\u001b[39m\n\u001b[0;32m     14\u001b[0m     \u001b[38;5;28;01mif\u001b[39;00m palpite \u001b[38;5;241m==\u001b[39m numero_secreto:\n",
      "\u001b[1;31mValueError\u001b[0m: invalid literal for int() with base 10: ''"
     ]
    }
   ],
   "source": [
    "import random\n",
    "\n",
    "numero_secreto = random.randint(1,1000)\n",
    "tentativas = 0\n",
    "max_tentativas = \n",
    "acertou = False\n",
    "print('bem vindo ao pyton games!')\n",
    "print(f'voce possui{max_tentativas} tentativas para adivinhar o numerosecreto entre 1 e 5')\n",
    "\n",
    "while tentativas < max_tentativas:\n",
    "    palpite = int(input('digite um numero inteiro'))\n",
    "    tentativas +=1\n",
    "\n",
    "    if palpite == numero_secreto:\n",
    "        acertou = True\n",
    "        break\n",
    "    elif palpite < numero_secreto:\n",
    "        print('tente um numero maior!')\n",
    "    else:\n",
    "        print('tente um numero menr!')\n",
    "if acertou:\n",
    "    print(f'parabens voce acertou{numero_secreto} em {tentativas} tentativas')\n",
    "else:\n",
    "    print(f'Que pena! voce nao conseguiu{numero_secreto} ')"
   ]
  },
  {
   "cell_type": "code",
   "execution_count": null,
   "metadata": {},
   "outputs": [],
   "source": [
    "umero_ecreto} em {tentativas} tentativas')\n",
    "else:\n",
    "    print(f'Que pena! voce nao conseguiu{numero_secreto} ')"
   ]
  }
 ],
 "metadata": {
  "kernelspec": {
   "display_name": "Python 3",
   "language": "python",
   "name": "python3"
  },
  "language_info": {
   "codemirror_mode": {
    "name": "ipython",
    "version": 3
   },
   "file_extension": ".py",
   "mimetype": "text/x-python",
   "name": "python",
   "nbconvert_exporter": "python",
   "pygments_lexer": "ipython3",
   "version": "3.12.4"
  }
 },
 "nbformat": 4,
 "nbformat_minor": 2
}
