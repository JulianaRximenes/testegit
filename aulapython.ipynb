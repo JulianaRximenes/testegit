{
 "cells": [
  {
   "cell_type": "markdown",
   "metadata": {},
   "source": [
    "# Revisão aula Python\n",
    "- teste 1   \n",
    "    -teste 2    \n",
    "        -teste 3    \n",
    "            -quando digitar input = digitar algo\n",
    "            -print = mostra\n",
    "        - str= nome(letras)\n",
    "            -int= numero inteiro\n",
    "            -float = numeros com .\n",
    "         -bool = verdade ou falso\n",
    "            -type= pra mostrar o tipo da variavel\n",
    "            / = dividir\n",
    "            * = mutiplicar\n",
    "            ** e referena levado apotencia\n",
    "            % e pra dar a porcentagem\n",
    "    sinal de - sempre antes de =( quando eu quero que tire o valor)\n",
    "    o sinal de + sempra vai antes do =\n",
    "        //= divisao que mostra o nume inteiro\n",
    "        if progamador = falso\n",
    "        # progamador:\n",
    "        ex print ('if é verdade')\n",
    "\n",
    "        else:progamador = verdade\n",
    "       ex print ('if e falso')\n",
    "       print(finalizou o codigo)\n",
    "        \n",
    "    \n"
   ]
  },
  {
   "cell_type": "code",
   "execution_count": null,
   "metadata": {},
   "outputs": [],
   "source": [
    "# nome= 'Juliana' #string\n",
    "idade= 35 # inteiro\n",
    "peso= 55 #float\n",
    "altura= 1.65 #float\n",
    "instrutor= True #boolean\n",
    "\n",
    "print(nome, type(nome))\n",
    "# print (nome)\n",
    "print(type(idade))\n",
    "print(type(peso))\n",
    "print(type(altura))\n",
    "print(type(instrutor))"
   ]
  },
  {
   "cell_type": "code",
   "execution_count": null,
   "metadata": {},
   "outputs": [],
   "source": [
    "valor= 15\n",
    "print('valor sem conversão', type(valor))\n",
    "valor= str(valor)\n",
    "print('valor convertido', type(valor))\n",
    "\n",
    "\n"
   ]
  },
  {
   "cell_type": "code",
   "execution_count": null,
   "metadata": {},
   "outputs": [],
   "source": [
    "# nome= 'juliana'\n",
    "idade= 35\n",
    "\n",
    "#modo 1\n",
    "print('ola meu nome e' +nome+'! tenho'+str(idade)+ 'anos de idade')"
   ]
  },
  {
   "cell_type": "markdown",
   "metadata": {},
   "source": [
    "# Atividade\n",
    "\n",
    "crie um progama para o boletim de notas do aluno.guarde o nome do aluno, as notas e guarde a media fina\n",
    "    diciplinas\n",
    "     matematica\n",
    "     portugues\n",
    "     geografia\n",
    "        historia\n",
    "        fisica\n",
    "    Ao obter as notas ea media das notas imita o boletim do aluno informando a notas das materia quando ele ficou de media "
   ]
  },
  {
   "cell_type": "code",
   "execution_count": 1,
   "metadata": {},
   "outputs": [
    {
     "name": "stdout",
     "output_type": "stream",
     "text": [
      "matematica8.0\n",
      "portugues8.0\n",
      "geografia8.0\n",
      "historia8.0\n",
      "fisica8.0\n",
      "O aluno  henrique tem a media de 8.00\n"
     ]
    }
   ],
   "source": [
    "nome= input('insira seu nome ')\n",
    "matematica= float(input('coloque sua nota matematica'))\n",
    "portugues= float(input('coloque sua nota protugues'))\n",
    "geografia= float(input('coloque sua nota geografia'))\n",
    "historia=float(input('coloque sua nota historia'))\n",
    "fisica=float(input('coloque sua nota fisica'))\n",
    "\n",
    "print (f'matematica{matematica}')\n",
    "print (f'portugues{portugues}')\n",
    "print (f'geografia{geografia}')\n",
    "print (f'historia{historia}')\n",
    "print (f'fisica{fisica}')\n",
    "\n",
    "media= (matematica + portugues + geografia +historia + fisica) /5\n",
    "print (f'O aluno  {nome} tem a media de {media:.2f}')\n",
    "\n",
    "\n"
   ]
  },
  {
   "cell_type": "code",
   "execution_count": null,
   "metadata": {},
   "outputs": [],
   "source": []
  }
 ],
 "metadata": {
  "kernelspec": {
   "display_name": ".venv",
   "language": "python",
   "name": "python3"
  },
  "language_info": {
   "codemirror_mode": {
    "name": "ipython",
    "version": 3
   },
   "file_extension": ".py",
   "mimetype": "text/x-python",
   "name": "python",
   "nbconvert_exporter": "python",
   "pygments_lexer": "ipython3",
   "version": "3.12.4"
  }
 },
 "nbformat": 4,
 "nbformat_minor": 2
}
